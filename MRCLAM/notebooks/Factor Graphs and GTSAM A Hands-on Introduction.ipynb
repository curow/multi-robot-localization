{
 "cells": [
  {
   "cell_type": "code",
   "execution_count": 39,
   "metadata": {},
   "outputs": [],
   "source": [
    "%matplotlib inline\n",
    "from math import pi\n",
    "import numpy as np\n",
    "import matplotlib.pyplot as plt\n",
    "from gtsam import *"
   ]
  },
  {
   "cell_type": "markdown",
   "metadata": {},
   "source": [
    "# 2 Modeling Robot Motion"
   ]
  },
  {
   "cell_type": "markdown",
   "metadata": {},
   "source": [
    "## 2.2 Creating a Factor Graph"
   ]
  },
  {
   "cell_type": "code",
   "execution_count": 23,
   "metadata": {},
   "outputs": [],
   "source": [
    "def X(i):\n",
    "    return symbol('x', i)\n",
    "\n",
    "graph = NonlinearFactorGraph()\n",
    "priorMean = Pose2(np.array([0.0, 0.0, 0.0]))\n",
    "priorNoise = noiseModel.Diagonal.Sigmas(np.array([0.3, 0.3, 0.1]))\n",
    "priorFactor = PriorFactorPose2(X(1), priorPose, priorNoise)\n",
    "graph.add(priorFactor)\n",
    "\n",
    "odomMean = Pose2(np.array([2.0, 0.0, 0.0]))\n",
    "odomNoise = noiseModel.Diagonal.Sigmas(np.array([0.2, 0.2, 0.1]))\n",
    "graph.add(BetweenFactorPose2(X(1), X(2), odomMean, odomNoise))\n",
    "graph.add(BetweenFactorPose2(X(2), X(3), odomMean, odomNoise))"
   ]
  },
  {
   "cell_type": "code",
   "execution_count": 24,
   "metadata": {
    "scrolled": false
   },
   "outputs": [
    {
     "name": "stdout",
     "output_type": "stream",
     "text": [
      "size: 3\n",
      "\n",
      "Factor 0: PriorFactor on x1\n",
      "  prior mean: (0, 0, 0)\n",
      "  noise model: diagonal sigmas[0.3; 0.3; 0.1];\n",
      "\n",
      "Factor 1: BetweenFactor(x1,x2)\n",
      "  measured: (2, 0, 0)\n",
      "  noise model: diagonal sigmas[0.2; 0.2; 0.1];\n",
      "\n",
      "Factor 2: BetweenFactor(x2,x3)\n",
      "  measured: (2, 0, 0)\n",
      "  noise model: diagonal sigmas[0.2; 0.2; 0.1];\n",
      "\n",
      "\n"
     ]
    }
   ],
   "source": [
    "print(graph)"
   ]
  },
  {
   "cell_type": "markdown",
   "metadata": {},
   "source": [
    "## 2.4 Non-linear Optimization in GTSAM"
   ]
  },
  {
   "cell_type": "code",
   "execution_count": 30,
   "metadata": {},
   "outputs": [
    {
     "name": "stdout",
     "output_type": "stream",
     "text": [
      "Initial Estimate:\n",
      "Values with 3 values:\n",
      "Value x1: (gtsam::Pose2)\n",
      "(0.496673327, 0.0498335554, 0.2)\n",
      "\n",
      "Value x2: (gtsam::Pose2)\n",
      "(2.29466402, -0.129899689, -0.2)\n",
      "\n",
      "Value x3: (gtsam::Pose2)\n",
      "(4.08817425, 0.30466264, 0.1)\n",
      "\n",
      "\n",
      "Final Result:\n",
      "Values with 3 values:\n",
      "Value x1: (gtsam::Pose2)\n",
      "(1.14850554e-15, -1.08248839e-15, -3.72019825e-16)\n",
      "\n",
      "Value x2: (gtsam::Pose2)\n",
      "(2, -2.26656227e-15, -5.18086301e-16)\n",
      "\n",
      "Value x3: (gtsam::Pose2)\n",
      "(4, -3.52656487e-15, -5.21041182e-16)\n",
      "\n",
      "\n"
     ]
    }
   ],
   "source": [
    "initial = Values()\n",
    "initial.insert(X(1), Pose2(np.array([0.5, 0.0, 0.2])))\n",
    "initial.insert(X(2), Pose2(np.array([2.3, 0.1, -0.2])))\n",
    "initial.insert(X(3), Pose2(np.array([4.1, 0.1, 0.1])))\n",
    "print(\"Initial Estimate:\\n{}\".format(initial))\n",
    "\n",
    "result = LevenbergMarquardtOptimizer(graph, initial).optimize()\n",
    "print(\"Final Result:\\n{}\".format(result))"
   ]
  },
  {
   "cell_type": "markdown",
   "metadata": {},
   "source": [
    "## 2.5 Full Posterior Inference"
   ]
  },
  {
   "cell_type": "code",
   "execution_count": 31,
   "metadata": {},
   "outputs": [
    {
     "name": "stdout",
     "output_type": "stream",
     "text": [
      "x1 covariance:\n",
      "[[ 9.00000000e-02 -3.32311241e-50  0.00000000e+00]\n",
      " [-3.32311241e-50  9.00000000e-02  0.00000000e+00]\n",
      " [ 0.00000000e+00  0.00000000e+00  1.00000000e-02]]\n",
      "x2 covariance:\n",
      "[[1.30000000e-01 2.95802548e-18 1.47901274e-18]\n",
      " [2.95802548e-18 1.70000000e-01 2.00000000e-02]\n",
      " [1.47901274e-18 2.00000000e-02 2.00000000e-02]]\n",
      "x3 covariance:\n",
      "[[1.70000000e-01 1.87548749e-17 5.77831992e-18]\n",
      " [1.87548749e-17 3.70000000e-01 6.00000000e-02]\n",
      " [5.77831992e-18 6.00000000e-02 3.00000000e-02]]\n"
     ]
    }
   ],
   "source": [
    "marginals = Marginals(graph, result)\n",
    "print(\"x1 covariance:\\n{}\".format(marginals.marginalCovariance(X(1))))\n",
    "print(\"x2 covariance:\\n{}\".format(marginals.marginalCovariance(X(2))))\n",
    "print(\"x3 covariance:\\n{}\".format(marginals.marginalCovariance(X(3))))"
   ]
  },
  {
   "cell_type": "markdown",
   "metadata": {},
   "source": [
    "# 3 Robot Localization"
   ]
  },
  {
   "cell_type": "markdown",
   "metadata": {},
   "source": [
    "## 3.2 Defining Custom Factors"
   ]
  },
  {
   "cell_type": "markdown",
   "metadata": {},
   "source": [
    "it seems that we can not define new gtsam factors in python currently,\n",
    "see https://bitbucket.org/gtborg/gtsam/issues/251/simplified-way-to-define-new-types-of"
   ]
  },
  {
   "cell_type": "code",
   "execution_count": 40,
   "metadata": {},
   "outputs": [],
   "source": [
    "# Create graph container and add factors to it\n",
    "graph = gtsam.NonlinearFactorGraph()\n",
    "\n",
    "# Add prior\n",
    "# gaussian for prior\n",
    "priorMean = gtsam.Pose2(0.0, 0.0, 0.0)  # prior at origin\n",
    "priorNoise = gtsam.noiseModel.Diagonal.Sigmas(np.array([0.3, 0.3, 0.1]))\n",
    "# add directly to graph\n",
    "graph.add(gtsam.PriorFactorPose2(1, priorMean, priorNoise))\n",
    "\n",
    "# Add odometry\n",
    "# general noisemodel for odometry\n",
    "odometryNoise = gtsam.noiseModel.Diagonal.Sigmas(np.array([0.2, 0.2, 0.1]))\n",
    "graph.add(gtsam.BetweenFactorPose2(\n",
    "    1, 2, gtsam.Pose2(2.0, 0.0, 0.0), odometryNoise))\n",
    "graph.add(gtsam.BetweenFactorPose2(\n",
    "    2, 3, gtsam.Pose2(2.0, 0.0, pi / 2), odometryNoise))\n",
    "graph.add(gtsam.BetweenFactorPose2(\n",
    "    3, 4, gtsam.Pose2(2.0, 0.0, pi / 2), odometryNoise))\n",
    "graph.add(gtsam.BetweenFactorPose2(\n",
    "    4, 5, gtsam.Pose2(2.0, 0.0, pi / 2), odometryNoise))\n",
    "\n",
    "# Add loop closure constraint\n",
    "loopClosureNoise = gtsam.noiseModel.Diagonal.Sigmas(np.array([0.2, 0.2, 0.1]))\n",
    "graph.add(gtsam.BetweenFactorPose2(5, 2, gtsam.Pose2(2.0, 0.0, pi / 2), loopClosureNoise))"
   ]
  },
  {
   "cell_type": "code",
   "execution_count": 41,
   "metadata": {},
   "outputs": [
    {
     "data": {
      "text/plain": [
       "size: 6\n",
       "\n",
       "Factor 0: PriorFactor on 1\n",
       "  prior mean: (0, 0, 0)\n",
       "  noise model: diagonal sigmas[0.3; 0.3; 0.1];\n",
       "\n",
       "Factor 1: BetweenFactor(1,2)\n",
       "  measured: (2, 0, 0)\n",
       "  noise model: diagonal sigmas[0.2; 0.2; 0.1];\n",
       "\n",
       "Factor 2: BetweenFactor(2,3)\n",
       "  measured: (2, 0, 1.57079633)\n",
       "  noise model: diagonal sigmas[0.2; 0.2; 0.1];\n",
       "\n",
       "Factor 3: BetweenFactor(3,4)\n",
       "  measured: (2, 0, 1.57079633)\n",
       "  noise model: diagonal sigmas[0.2; 0.2; 0.1];\n",
       "\n",
       "Factor 4: BetweenFactor(4,5)\n",
       "  measured: (2, 0, 1.57079633)\n",
       "  noise model: diagonal sigmas[0.2; 0.2; 0.1];\n",
       "\n",
       "Factor 5: BetweenFactor(5,2)\n",
       "  measured: (2, 0, 1.57079633)\n",
       "  noise model: diagonal sigmas[0.2; 0.2; 0.1];\n"
      ]
     },
     "execution_count": 41,
     "metadata": {},
     "output_type": "execute_result"
    }
   ],
   "source": [
    "graph"
   ]
  },
  {
   "cell_type": "code",
   "execution_count": 42,
   "metadata": {},
   "outputs": [],
   "source": [
    "# Initialize to noisy points\n",
    "initialEstimate = gtsam.Values()\n",
    "initialEstimate.insert(1, gtsam.Pose2(0.5, 0.0, 0.2))\n",
    "initialEstimate.insert(2, gtsam.Pose2(2.3, 0.1, -0.2))\n",
    "initialEstimate.insert(3, gtsam.Pose2(4.1, 0.1, pi / 2))\n",
    "initialEstimate.insert(4, gtsam.Pose2(4.0, 2.0, pi))\n",
    "initialEstimate.insert(5, gtsam.Pose2(2.1, 2.1, -pi / 2))\n",
    "\n",
    "# Optimize using Levenberg-Marquardt optimization with an ordering from\n",
    "# colamd\n",
    "optimizer = gtsam.LevenbergMarquardtOptimizer(graph, initialEstimate)\n",
    "result = optimizer.optimizeSafely()"
   ]
  },
  {
   "cell_type": "code",
   "execution_count": 43,
   "metadata": {},
   "outputs": [
    {
     "data": {
      "text/plain": [
       "20.108558223490085"
      ]
     },
     "execution_count": 43,
     "metadata": {},
     "output_type": "execute_result"
    }
   ],
   "source": [
    "graph.error(initialEstimate)"
   ]
  },
  {
   "cell_type": "code",
   "execution_count": 44,
   "metadata": {},
   "outputs": [
    {
     "data": {
      "text/plain": [
       "8.219132306212647e-18"
      ]
     },
     "execution_count": 44,
     "metadata": {},
     "output_type": "execute_result"
    }
   ],
   "source": [
    "graph.error(result)"
   ]
  },
  {
   "cell_type": "code",
   "execution_count": 45,
   "metadata": {},
   "outputs": [
    {
     "name": "stdout",
     "output_type": "stream",
     "text": [
      "Help on function findExampleDataFile in module gtsam.utils:\n",
      "\n",
      "findExampleDataFile(name)\n",
      "    Find the example data file specified by `name`.\n",
      "\n"
     ]
    }
   ],
   "source": [
    "help(findExampleDataFile)"
   ]
  }
 ],
 "metadata": {
  "kernelspec": {
   "display_name": "Python 3",
   "language": "python",
   "name": "python3"
  },
  "language_info": {
   "codemirror_mode": {
    "name": "ipython",
    "version": 3
   },
   "file_extension": ".py",
   "mimetype": "text/x-python",
   "name": "python",
   "nbconvert_exporter": "python",
   "pygments_lexer": "ipython3",
   "version": "3.7.4"
  }
 },
 "nbformat": 4,
 "nbformat_minor": 2
}
