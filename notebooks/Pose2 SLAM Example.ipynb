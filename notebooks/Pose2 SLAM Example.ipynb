{
 "cells": [
  {
   "cell_type": "code",
   "execution_count": 9,
   "metadata": {},
   "outputs": [
    {
     "name": "stdout",
     "output_type": "stream",
     "text": [
      "\n",
      "Factor Graph:\n",
      "size: 6\n",
      "\n",
      "Factor 0: PriorFactor on 1\n",
      "  prior mean: (0, 0, 0)\n",
      "  noise model: diagonal sigmas[0.3; 0.3; 0.1];\n",
      "\n",
      "Factor 1: BetweenFactor(1,2)\n",
      "  measured: (2, 0, 0)\n",
      "  noise model: diagonal sigmas[0.2; 0.2; 0.1];\n",
      "\n",
      "Factor 2: BetweenFactor(2,3)\n",
      "  measured: (2, 0, 1.57079633)\n",
      "  noise model: diagonal sigmas[0.2; 0.2; 0.1];\n",
      "\n",
      "Factor 3: BetweenFactor(3,4)\n",
      "  measured: (2, 0, 1.57079633)\n",
      "  noise model: diagonal sigmas[0.2; 0.2; 0.1];\n",
      "\n",
      "Factor 4: BetweenFactor(4,5)\n",
      "  measured: (2, 0, 1.57079633)\n",
      "  noise model: diagonal sigmas[0.2; 0.2; 0.1];\n",
      "\n",
      "Factor 5: BetweenFactor(5,2)\n",
      "  measured: (2, 0, 1.57079633)\n",
      "  noise model: diagonal sigmas[0.2; 0.2; 0.1];\n",
      "\n",
      "\n",
      "\n",
      "Initial Estimate:\n",
      "Values with 5 values:\n",
      "Value 1: (gtsam::Pose2)\n",
      "(0.5, 0, 0.2)\n",
      "\n",
      "Value 2: (gtsam::Pose2)\n",
      "(2.3, 0.1, -0.2)\n",
      "\n",
      "Value 3: (gtsam::Pose2)\n",
      "(4.1, 0.1, 1.57079633)\n",
      "\n",
      "Value 4: (gtsam::Pose2)\n",
      "(4, 2, 3.14159265)\n",
      "\n",
      "Value 5: (gtsam::Pose2)\n",
      "(2.1, 2.1, -1.57079633)\n",
      "\n",
      "\n",
      "Final Result:\n",
      "Values with 5 values:\n",
      "Value 1: (gtsam::Pose2)\n",
      "(-4.36656651e-21, -8.80618068e-20, -3.71519043e-20)\n",
      "\n",
      "Value 2: (gtsam::Pose2)\n",
      "(2, -2.01504196e-19, -5.47345182e-20)\n",
      "\n",
      "Value 3: (gtsam::Pose2)\n",
      "(4, -3.42173709e-11, 1.57079633)\n",
      "\n",
      "Value 4: (gtsam::Pose2)\n",
      "(4, 2, 3.14159265)\n",
      "\n",
      "Value 5: (gtsam::Pose2)\n",
      "(2, 2, -1.57079633)\n",
      "\n",
      "\n",
      "X1 covariance:\n",
      "[[ 9.00000000e-02 -2.18987050e-18  8.35744790e-20]\n",
      " [-2.18987050e-18  9.00000000e-02  5.75539616e-17]\n",
      " [ 8.35744790e-20  5.75539616e-17  1.00000000e-02]]\n",
      "\n",
      "X2 covariance:\n",
      "[[ 1.30000000e-01 -4.32747221e-18  9.44398511e-19]\n",
      " [-4.32747221e-18  1.70000000e-01  2.00000000e-02]\n",
      " [ 9.44398511e-19  2.00000000e-02  2.00000000e-02]]\n",
      "\n",
      "X3 covariance:\n",
      "[[ 3.62000000e-01 -3.29303053e-12  6.20000000e-02]\n",
      " [-3.29303235e-12  1.62000000e-01 -2.00000000e-03]\n",
      " [ 6.20000000e-02 -2.00000000e-03  2.65000000e-02]]\n",
      "\n",
      "X4 covariance:\n",
      "[[ 0.268 -0.128  0.048]\n",
      " [-0.128  0.378 -0.068]\n",
      " [ 0.048 -0.068  0.028]]\n",
      "\n",
      "X5 covariance:\n",
      "[[ 0.202   0.036  -0.018 ]\n",
      " [ 0.036   0.26   -0.051 ]\n",
      " [-0.018  -0.051   0.0265]]\n",
      "\n"
     ]
    }
   ],
   "source": [
    "import math\n",
    "import numpy as np\n",
    "import gtsam\n",
    "import matplotlib.pyplot as plt\n",
    "import gtsam.utils.plot as gtsam_plot\n",
    "\n",
    "def vector3(x, y, z):\n",
    "    \"\"\"Create 3d double numpy array.\"\"\"\n",
    "    return np.array([x, y, z], dtype=np.float)\n",
    "\n",
    "# Create noise models\n",
    "PRIOR_NOISE = gtsam.noiseModel.Diagonal.Sigmas(vector3(0.3, 0.3, 0.1))\n",
    "ODOMETRY_NOISE = gtsam.noiseModel.Diagonal.Sigmas(vector3(0.2, 0.2, 0.1))\n",
    "\n",
    "# 1. Create a factor graph container and add factors to it\n",
    "graph = gtsam.NonlinearFactorGraph()\n",
    "\n",
    "# 2a. Add a prior on the first pose, setting it to the origin\n",
    "# A prior factor consists of a mean and a noise ODOMETRY_NOISE (covariance matrix)\n",
    "graph.add(gtsam.PriorFactorPose2(1, gtsam.Pose2(0, 0, 0), PRIOR_NOISE))\n",
    "\n",
    "# 2b. Add odometry factors\n",
    "# Create odometry (Between) factors between consecutive poses\n",
    "graph.add(gtsam.BetweenFactorPose2(1, 2, gtsam.Pose2(2, 0, 0), ODOMETRY_NOISE))\n",
    "graph.add(gtsam.BetweenFactorPose2(\n",
    "    2, 3, gtsam.Pose2(2, 0, math.pi / 2), ODOMETRY_NOISE))\n",
    "graph.add(gtsam.BetweenFactorPose2(\n",
    "    3, 4, gtsam.Pose2(2, 0, math.pi / 2), ODOMETRY_NOISE))\n",
    "graph.add(gtsam.BetweenFactorPose2(\n",
    "    4, 5, gtsam.Pose2(2, 0, math.pi / 2), ODOMETRY_NOISE))\n",
    "\n",
    "# 2c. Add the loop closure constraint\n",
    "# This factor encodes the fact that we have returned to the same pose. In real\n",
    "# systems, these constraints may be identified in many ways, such as appearance-based\n",
    "# techniques with camera images. We will use another Between Factor to enforce this constraint:\n",
    "graph.add(gtsam.BetweenFactorPose2(\n",
    "    5, 2, gtsam.Pose2(2, 0, math.pi / 2), ODOMETRY_NOISE))\n",
    "print(\"\\nFactor Graph:\\n{}\".format(graph))  # print\n",
    "\n",
    "# 3. Create the data structure to hold the initial_estimate estimate to the\n",
    "# solution. For illustrative purposes, these have been deliberately set to incorrect values\n",
    "initial_estimate = gtsam.Values()\n",
    "initial_estimate.insert(1, gtsam.Pose2(0.5, 0.0, 0.2))\n",
    "initial_estimate.insert(2, gtsam.Pose2(2.3, 0.1, -0.2))\n",
    "initial_estimate.insert(3, gtsam.Pose2(4.1, 0.1, math.pi / 2))\n",
    "initial_estimate.insert(4, gtsam.Pose2(4.0, 2.0, math.pi))\n",
    "initial_estimate.insert(5, gtsam.Pose2(2.1, 2.1, -math.pi / 2))\n",
    "print(\"\\nInitial Estimate:\\n{}\".format(initial_estimate))  # print\n",
    "\n",
    "# 4. Optimize the initial values using a Gauss-Newton nonlinear optimizer\n",
    "# The optimizer accepts an optional set of configuration parameters,\n",
    "# controlling things like convergence criteria, the type of linear\n",
    "# system solver to use, and the amount of information displayed during\n",
    "# optimization. We will set a few parameters as a demonstration.\n",
    "parameters = gtsam.GaussNewtonParams()\n",
    "\n",
    "# Stop iterating once the change in error between steps is less than this value\n",
    "parameters.setRelativeErrorTol(1e-5)\n",
    "# Do not perform more than N iteration steps\n",
    "parameters.setMaxIterations(100)\n",
    "# Create the optimizer ...\n",
    "optimizer = gtsam.GaussNewtonOptimizer(graph, initial_estimate, parameters)\n",
    "# ... and optimize\n",
    "result = optimizer.optimize()\n",
    "print(\"Final Result:\\n{}\".format(result))\n",
    "\n",
    "# 5. Calculate and print marginal covariances for all variables\n",
    "marginals = gtsam.Marginals(graph, result)\n",
    "for i in range(1, 6):\n",
    "    print(\"X{} covariance:\\n{}\\n\".format(i, marginals.marginalCovariance(i)))"
   ]
  },
  {
   "cell_type": "code",
   "execution_count": 5,
   "metadata": {},
   "outputs": [
    {
     "name": "stdout",
     "output_type": "stream",
     "text": [
      "Help on function plot_pose2 in module gtsam.utils.plot:\n",
      "\n",
      "plot_pose2(fignum, pose, axis_length=0.1, covariance=None, axis_labels=('X axis', 'Y axis', 'Z axis'))\n",
      "    Plot a 2D pose on given figure with given `axis_length`.\n",
      "    \n",
      "    Args:\n",
      "        fignum (int): Integer representing the figure number to use for plotting.\n",
      "        pose (gtsam.Pose2): The pose to be plotted.\n",
      "        axis_length (float): The length of the camera axes.\n",
      "        covariance (numpy.ndarray): Marginal covariance matrix to plot the uncertainty of the estimation.\n",
      "        axis_labels (iterable[string]): List of axis labels to set.\n",
      "\n"
     ]
    }
   ],
   "source": [
    "help(gtsam_plot.plot_pose2)"
   ]
  },
  {
   "cell_type": "code",
   "execution_count": 6,
   "metadata": {},
   "outputs": [
    {
     "data": {
      "image/png": "[encoded data removed]",
      "text/plain": [
       "<Figure size 432x288 with 1 Axes>"
      ]
     },
     "metadata": {
      "needs_background": "light"
     },
     "output_type": "display_data"
    }
   ],
   "source": [
    "fig = plt.figure(0)\n",
    "for i in range(1, 6):\n",
    "    gtsam_plot.plot_pose2(0, result.atPose2(i), 0.3, marginals.marginalCovariance(i))\n",
    "\n",
    "plt.axis('equal')\n",
    "plt.show()"
   ]
  },
  {
   "cell_type": "code",
   "execution_count": null,
   "metadata": {},
   "outputs": [],
   "source": [
    "help(gtsam.load2D)"
   ]
  },
  {
   "cell_type": "code",
   "execution_count": null,
   "metadata": {
    "scrolled": false
   },
   "outputs": [],
   "source": [
    "help(gtsam.utils.plot)"
   ]
  }
 ],
 "metadata": {
  "kernelspec": {
   "display_name": "Python 3",
   "language": "python",
   "name": "python3"
  },
  "language_info": {
   "codemirror_mode": {
    "name": "ipython",
    "version": 3
   },
   "file_extension": ".py",
   "mimetype": "text/x-python",
   "name": "python",
   "nbconvert_exporter": "python",
   "pygments_lexer": "ipython3",
   "version": "3.7.4"
  }
 },
 "nbformat": 4,
 "nbformat_minor": 2
}
