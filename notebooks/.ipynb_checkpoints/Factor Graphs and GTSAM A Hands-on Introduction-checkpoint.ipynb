{
 "cells": [
  {
   "cell_type": "code",
   "execution_count": 4,
   "metadata": {},
   "outputs": [],
   "source": [
    "%matplotlib inline\n",
    "import numpy as np\n",
    "import matplotlib.pyplot as plt\n",
    "import gtsam"
   ]
  },
  {
   "cell_type": "code",
   "execution_count": 23,
   "metadata": {},
   "outputs": [],
   "source": [
    "from gtsam import *\n",
    "\n",
    "def X(i):\n",
    "    return symbol('x', i)\n",
    "\n",
    "graph = NonlinearFactorGraph()\n",
    "priorMean = Pose2(np.array([0.0, 0.0, 0.0]))\n",
    "priorNoise = noiseModel.Diagonal.Sigmas(np.array([0.3, 0.3, 0.1]))\n",
    "priorFactor = PriorFactorPose2(X(1), priorPose, priorNoise)\n",
    "graph.add(priorFactor)\n",
    "\n",
    "odomMean = Pose2(np.array([2.0, 0.0, 0.0]))\n",
    "odomNoise = noiseModel.Diagonal.Sigmas(np.array([0.2, 0.2, 0.1]))\n",
    "graph.add(BetweenFactorPose2(X(1), X(2), odomMean, odomNoise))\n",
    "graph.add(BetweenFactorPose2(X(2), X(3), odomMean, odomNoise))"
   ]
  },
  {
   "cell_type": "code",
   "execution_count": 24,
   "metadata": {
    "scrolled": false
   },
   "outputs": [
    {
     "name": "stdout",
     "output_type": "stream",
     "text": [
      "size: 3\n",
      "\n",
      "Factor 0: PriorFactor on x1\n",
      "  prior mean: (0, 0, 0)\n",
      "  noise model: diagonal sigmas[0.3; 0.3; 0.1];\n",
      "\n",
      "Factor 1: BetweenFactor(x1,x2)\n",
      "  measured: (2, 0, 0)\n",
      "  noise model: diagonal sigmas[0.2; 0.2; 0.1];\n",
      "\n",
      "Factor 2: BetweenFactor(x2,x3)\n",
      "  measured: (2, 0, 0)\n",
      "  noise model: diagonal sigmas[0.2; 0.2; 0.1];\n",
      "\n",
      "\n"
     ]
    }
   ],
   "source": [
    "print(graph)"
   ]
  },
  {
   "cell_type": "code",
   "execution_count": null,
   "metadata": {},
   "outputs": [],
   "source": []
  }
 ],
 "metadata": {
  "kernelspec": {
   "display_name": "Python 3",
   "language": "python",
   "name": "python3"
  },
  "language_info": {
   "codemirror_mode": {
    "name": "ipython",
    "version": 3
   },
   "file_extension": ".py",
   "mimetype": "text/x-python",
   "name": "python",
   "nbconvert_exporter": "python",
   "pygments_lexer": "ipython3",
   "version": "3.7.4"
  }
 },
 "nbformat": 4,
 "nbformat_minor": 2
}
